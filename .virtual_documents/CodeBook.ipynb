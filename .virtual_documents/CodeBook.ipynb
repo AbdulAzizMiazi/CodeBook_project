import json


def load_data(file_name):
    try:
        with open(file_name, "r") as f:
            return json.load(f)
    except FileNotFoundError:
        print("File Couldln't be found!")


data = load_data("data.json")
data


users = data["users"]
pages = data["pages"]


# for getting page name
def page_name(id):
    for page in pages:
        if(page["id"] == id):
            return page["name"]


# for getting the user name
def user_name(id):
    for user in users:
            if(user["id"] == id):
                return user["name"]


# function to display users and their connectionns       
def user_connections(id):
    for user in users:
        if user["id"] == id:
            name = user["name"]
            liked_pages = []
            frineds = []
            
            for frnd in user["friends"]:
                frnd_name = user_name(frnd)
                frineds.append(frnd_name)
            
            for lk_pag in user["liked_pages"]:
                pg_name = page_name(lk_pag)
                liked_pages.append(pg_name)
            
            return [name, frineds, liked_pages]


user_id = 1
name, friends, liked_page = user_connections(user_id)

print(f"""Name: {name}
Friends: {friends}
Liked Pages: {liked_page}""")


with open("User_Report.txt", "w") as f:
    f.write("This report contains the user and their connections:\n")


for user in users:
    name, friends, liked_page = user_connections(user["id"])
    with open("User_Report.txt", "a") as f:
              f.write(f"""Name: {name}
Friends: {friends}
Liked Pages: {liked_page}\n\n""")

    print(f"ID: {user["id"]} - Success")


string ="   "
print(string.strip())
