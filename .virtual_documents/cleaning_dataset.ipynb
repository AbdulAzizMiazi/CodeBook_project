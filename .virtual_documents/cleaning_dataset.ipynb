import json


with open("data2.json", "r") as f:
    data = json.load(f)
    print(data)


users = data["users"]
pages = data["pages"]


# clearning invalid names
users = [user for user in users if user["name"].strip()]
data["users"] = users
data["users"]


# cleaning duplicate frineds
clean_duplicate = lambda list_name: list(set(list_name))

frineds = []
for user in users:
    user["friends"] = clean_duplicate(user["friends"])
    frineds.append(user)

# frineds = [{**user, "friends": clean_duplicate(user["friends"])} for user in users]

data["users"] = frineds
data["users"]


# Clearning users with no friends and no liked_pages
data["users"] = [user for user in users if (user["friends"] or user["liked_pages"])]
data["users"]


# cleaning pages
priv_page = None
valid_pages = []
for page in pages:
    if page["id"] == priv_page:
        continue
    else:
        valid_pages.append(page)
        priv_page = page["id"]

data["pages"] = valid_pages
data["pages"]


with open("clean_data2.json", "w") as f:
    conv_json_data = json.dumps(data)
    f.write(conv_json_data)


# ************************************************* Solution of Harry *************************************************************
# import json

# def clean_data(data):
#     # Remove users with missing names
#     data["users"] = [user for user in data["users"] if user["name"].strip()]
    
#     # Remove duplicate friends
#     for user in data["users"]:
#         user["friends"] = list(set(user["friends"]))
    
#     # Remove inactive users
#     data["users"] = [user for user in data["users"] if user["friends"] or user["liked_pages"]]
    
#     # Remove duplicate pages
#     unique_pages = {}
#     for page in data["pages"]:
#         unique_pages[page["id"]] = page
#     data["pages"] = list(unique_pages.values())
    
#     return data

# # Load, clean, and display the cleaned data
# data = json.load(open("codebook_data.json"))
# data = clean_data(data)
# json.dump(data, open("cleaned_codebook_data.json", "w"), indent=4)
# print("Data cleaned successfully!")
