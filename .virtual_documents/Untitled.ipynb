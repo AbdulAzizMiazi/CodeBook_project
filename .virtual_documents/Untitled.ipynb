import json


def load_data(filename):
    try:
        with open(filename, 'r') as f:
            return json.load(f)
    except FileNotFoundError:
        return None


def pages_you_may_like(data, user_id):
    users_liked_pages = {}
    for user in data["users"]:
        users_liked_pages[user['id']] = set(user["liked_pages"])

    if user_id not in users_liked_pages:
        return []

    user_current_liked_pages = users_liked_pages[user_id]
    suggessions = {}

    for other_user, pages in users_liked_pages.items():
        if other_user != user_id:
            common_pages = user_current_liked_pages.intersection(pages)
            for page in pages:
                if page not in user_current_liked_pages:
                    suggessions[page] = suggessions.get(page, 0) + len(common_pages)

    suggession_sorted = sorted(suggessions.items(), key = lambda x: x[1], reverse=True)

    return [page_id  for page_id, count in suggession_sorted]


data = load_data("massive_data.json")
user_id = 2
reccomandations = pages_you_may_like(data, user_id)
reccomandations
