{
 "cells": [
  {
   "cell_type": "code",
   "execution_count": 2,
   "id": "0639ab4a-2eaf-4096-9490-120d5a7d13cf",
   "metadata": {},
   "outputs": [],
   "source": [
    "import json"
   ]
  },
  {
   "cell_type": "code",
   "execution_count": 5,
   "id": "989c791c-980f-4abd-b1a5-2dbf4b25862f",
   "metadata": {},
   "outputs": [
    {
     "name": "stdout",
     "output_type": "stream",
     "text": [
      "{\n",
      "    \"users\": [\n",
      "        {\"id\": 1, \"name\": \"Amit\", \"friends\": [2, 3], \"liked_pages\": [101]},\n",
      "        {\"id\": 2, \"name\": \"Priya\", \"friends\": [1, 4], \"liked_pages\": [102]},\n",
      "        {\"id\": 3, \"name\": \"Rahul\", \"friends\": [1], \"liked_pages\": [101, 103]},\n",
      "        {\"id\": 4, \"name\": \"Sara\", \"friends\": [2], \"liked_pages\": [104]}\n",
      "    ],\n",
      "    \"pages\": [\n",
      "        {\"id\": 101, \"name\": \"Python Developers\"},\n",
      "        {\"id\": 102, \"name\": \"Data Science Enthusiasts\"},\n",
      "        {\"id\": 103, \"name\": \"AI & ML Community\"},\n",
      "        {\"id\": 104, \"name\": \"Web Dev Hub\"}\n",
      "    ]\n",
      "}\n"
     ]
    }
   ],
   "source": [
    "try:\n",
    "    with open(\"data.json\", \"r\") as f:\n",
    "        print(f.read())\n",
    "except FileNotFoundError:\n",
    "    print(\"File Couldln't be found!\")"
   ]
  },
  {
   "cell_type": "code",
   "execution_count": null,
   "id": "e1958b2b-9740-4cd8-bb8a-8e7299fd63fb",
   "metadata": {},
   "outputs": [],
   "source": []
  }
 ],
 "metadata": {
  "kernelspec": {
   "display_name": "Python 3 (ipykernel)",
   "language": "python",
   "name": "python3"
  },
  "language_info": {
   "codemirror_mode": {
    "name": "ipython",
    "version": 3
   },
   "file_extension": ".py",
   "mimetype": "text/x-python",
   "name": "python",
   "nbconvert_exporter": "python",
   "pygments_lexer": "ipython3",
   "version": "3.12.4"
  }
 },
 "nbformat": 4,
 "nbformat_minor": 5
}
