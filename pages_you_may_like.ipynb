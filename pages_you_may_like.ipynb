{
 "cells": [
  {
   "cell_type": "code",
   "execution_count": 2,
   "id": "72f3bb3f-d975-47d4-b224-036edf5b6666",
   "metadata": {},
   "outputs": [],
   "source": [
    "import json"
   ]
  },
  {
   "cell_type": "code",
   "execution_count": 4,
   "id": "d8bac0c7-8ec4-4b65-90ba-dce3d24c7170",
   "metadata": {},
   "outputs": [],
   "source": [
    "def load_data(filename):\n",
    "    try:\n",
    "        with open(filename, 'r') as f:\n",
    "            return json.load(f)\n",
    "    except FileNotFoundError:\n",
    "        return None"
   ]
  },
  {
   "cell_type": "code",
   "execution_count": 46,
   "id": "0cc352a6-088e-4597-99fc-57976d8ede5e",
   "metadata": {},
   "outputs": [],
   "source": [
    "def pages_you_may_like(data, user_id):\n",
    "    users_liked_pages = {}\n",
    "    for user in data[\"users\"]:\n",
    "        users_liked_pages[user['id']] = set(user[\"liked_pages\"])\n",
    "\n",
    "    if user_id not in users_liked_pages:\n",
    "        return []\n",
    "\n",
    "    user_current_liked_pages = users_liked_pages[user_id]\n",
    "    suggessions = {}\n",
    "\n",
    "    for other_user, pages in users_liked_pages.items():\n",
    "        if other_user != user_id:\n",
    "            common_pages = user_current_liked_pages.intersection(pages)\n",
    "            for page in pages:\n",
    "                if page not in user_current_liked_pages:\n",
    "                    suggessions[page] = suggessions.get(page, 0) + len(common_pages)\n",
    "\n",
    "    suggession_sorted = sorted(suggessions.items(), key = lambda x: x[1], reverse=True)\n",
    "\n",
    "    return [page_id  for page_id, count in suggession_sorted]"
   ]
  },
  {
   "cell_type": "code",
   "execution_count": 48,
   "id": "4be9f1c7-3c8c-4e4a-a67b-b4dde3e372b8",
   "metadata": {},
   "outputs": [
    {
     "data": {
      "text/plain": [
       "[101,\n",
       " 105,\n",
       " 108,\n",
       " 104,\n",
       " 106,\n",
       " 107,\n",
       " 109,\n",
       " 110,\n",
       " 111,\n",
       " 112,\n",
       " 113,\n",
       " 114,\n",
       " 115,\n",
       " 116,\n",
       " 117,\n",
       " 118,\n",
       " 119,\n",
       " 120,\n",
       " 121,\n",
       " 122,\n",
       " 123,\n",
       " 124,\n",
       " 125,\n",
       " 126,\n",
       " 127]"
      ]
     },
     "execution_count": 48,
     "metadata": {},
     "output_type": "execute_result"
    }
   ],
   "source": [
    "data = load_data(\"massive_data.json\")\n",
    "user_id = 2\n",
    "reccomandations = pages_you_may_like(data, user_id)\n",
    "reccomandations"
   ]
  }
 ],
 "metadata": {
  "kernelspec": {
   "display_name": "Python 3 (ipykernel)",
   "language": "python",
   "name": "python3"
  },
  "language_info": {
   "codemirror_mode": {
    "name": "ipython",
    "version": 3
   },
   "file_extension": ".py",
   "mimetype": "text/x-python",
   "name": "python",
   "nbconvert_exporter": "python",
   "pygments_lexer": "ipython3",
   "version": "3.12.4"
  }
 },
 "nbformat": 4,
 "nbformat_minor": 5
}
