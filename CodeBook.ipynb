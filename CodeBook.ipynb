{
 "cells": [
  {
   "cell_type": "code",
   "execution_count": 2,
   "id": "0639ab4a-2eaf-4096-9490-120d5a7d13cf",
   "metadata": {},
   "outputs": [],
   "source": [
    "import json"
   ]
  },
  {
   "cell_type": "code",
   "execution_count": 3,
   "id": "989c791c-980f-4abd-b1a5-2dbf4b25862f",
   "metadata": {},
   "outputs": [],
   "source": [
    "def load_data(file_name):\n",
    "    try:\n",
    "        with open(file_name, \"r\") as f:\n",
    "            return json.load(f)\n",
    "    except FileNotFoundError:\n",
    "        print(\"File Couldln't be found!\")"
   ]
  },
  {
   "cell_type": "code",
   "execution_count": 4,
   "id": "e1958b2b-9740-4cd8-bb8a-8e7299fd63fb",
   "metadata": {},
   "outputs": [
    {
     "data": {
      "text/plain": [
       "{'users': [{'id': 1, 'name': 'Amit', 'friends': [2, 3], 'liked_pages': [101]},\n",
       "  {'id': 2, 'name': 'Priya', 'friends': [1, 4], 'liked_pages': [102]},\n",
       "  {'id': 3, 'name': 'Rahul', 'friends': [1], 'liked_pages': [101, 103]},\n",
       "  {'id': 4, 'name': 'Sara', 'friends': [2], 'liked_pages': [104]}],\n",
       " 'pages': [{'id': 101, 'name': 'Python Developers'},\n",
       "  {'id': 102, 'name': 'Data Science Enthusiasts'},\n",
       "  {'id': 103, 'name': 'AI & ML Community'},\n",
       "  {'id': 104, 'name': 'Web Dev Hub'}]}"
      ]
     },
     "execution_count": 4,
     "metadata": {},
     "output_type": "execute_result"
    }
   ],
   "source": [
    "data = load_data(\"data.json\")\n",
    "data"
   ]
  },
  {
   "cell_type": "code",
   "execution_count": 32,
   "id": "fe1ab662-f847-4aa7-8b1e-9e029f697b14",
   "metadata": {},
   "outputs": [],
   "source": [
    "users = data[\"users\"]\n",
    "pages = data[\"pages\"]"
   ]
  },
  {
   "cell_type": "code",
   "execution_count": 6,
   "id": "cf9ddbcd-41ec-44e2-b70a-e5a0e699f50c",
   "metadata": {},
   "outputs": [],
   "source": [
    "# for getting page name\n",
    "def page_name(id):\n",
    "    for page in pages:\n",
    "        if(page[\"id\"] == id):\n",
    "            return page[\"name\"]"
   ]
  },
  {
   "cell_type": "code",
   "execution_count": 7,
   "id": "739d00a4-9ceb-469a-99af-2aeab96a516a",
   "metadata": {},
   "outputs": [],
   "source": [
    "# for getting the user name\n",
    "def user_name(id):\n",
    "    for user in users:\n",
    "            if(user[\"id\"] == id):\n",
    "                return user[\"name\"]"
   ]
  },
  {
   "cell_type": "code",
   "execution_count": 8,
   "id": "72b71ece-f56c-4c18-b0b8-4f0db1d038fe",
   "metadata": {},
   "outputs": [],
   "source": [
    "# function to display users and their connectionns       \n",
    "def user_connections(id):\n",
    "    for user in users:\n",
    "        if user[\"id\"] == id:\n",
    "            name = user[\"name\"]\n",
    "            liked_pages = []\n",
    "            frineds = []\n",
    "            \n",
    "            for frnd in user[\"friends\"]:\n",
    "                frnd_name = user_name(frnd)\n",
    "                frineds.append(frnd_name)\n",
    "            \n",
    "            for lk_pag in user[\"liked_pages\"]:\n",
    "                pg_name = page_name(lk_pag)\n",
    "                liked_pages.append(pg_name)\n",
    "            \n",
    "            return [name, frineds, liked_pages]"
   ]
  },
  {
   "cell_type": "code",
   "execution_count": 30,
   "id": "5cd0801c-98fa-4f42-b75d-aea5012b4db6",
   "metadata": {},
   "outputs": [
    {
     "name": "stdout",
     "output_type": "stream",
     "text": [
      "Name: Amit\n",
      "Friends: ['Priya', 'Rahul']\n",
      "Liked Pages: ['Python Developers']\n"
     ]
    }
   ],
   "source": [
    "user_id = 1\n",
    "name, friends, liked_page = user_connections(user_id)\n",
    "\n",
    "print(f\"\"\"Name: {name}\n",
    "Friends: {friends}\n",
    "Liked Pages: {liked_page}\"\"\")"
   ]
  },
  {
   "cell_type": "code",
   "execution_count": 53,
   "id": "64b10161-d3ae-46c3-8ec0-dc0e55bd45ad",
   "metadata": {},
   "outputs": [],
   "source": [
    "with open(\"User_Report.txt\", \"w\") as f:\n",
    "    f.write(\"This report contains the user and their connections:\\n\")"
   ]
  },
  {
   "cell_type": "code",
   "execution_count": 56,
   "id": "7009138f-4a81-41cf-9622-bb4271bfa8b4",
   "metadata": {},
   "outputs": [
    {
     "name": "stdout",
     "output_type": "stream",
     "text": [
      "ID: 1 - Success\n",
      "ID: 2 - Success\n",
      "ID: 3 - Success\n",
      "ID: 4 - Success\n"
     ]
    }
   ],
   "source": [
    "for user in users:\n",
    "    name, friends, liked_page = user_connections(user[\"id\"])\n",
    "    with open(\"User_Report.txt\", \"a\") as f:\n",
    "              f.write(f\"\"\"Name: {name}\n",
    "Friends: {friends}\n",
    "Liked Pages: {liked_page}\\n\\n\"\"\")\n",
    "\n",
    "    print(f\"ID: {user[\"id\"]} - Success\")"
   ]
  },
  {
   "cell_type": "code",
   "execution_count": 65,
   "id": "0f470c8c-3637-41f2-aca1-b576370362c3",
   "metadata": {},
   "outputs": [
    {
     "name": "stdout",
     "output_type": "stream",
     "text": [
      "\n"
     ]
    }
   ],
   "source": [
    "string =\"   \"\n",
    "print(string.strip())"
   ]
  },
  {
   "cell_type": "code",
   "execution_count": null,
   "id": "caee9294-28ee-4e9a-a030-b88d0c7beea9",
   "metadata": {},
   "outputs": [],
   "source": []
  }
 ],
 "metadata": {
  "kernelspec": {
   "display_name": "Python 3 (ipykernel)",
   "language": "python",
   "name": "python3"
  },
  "language_info": {
   "codemirror_mode": {
    "name": "ipython",
    "version": 3
   },
   "file_extension": ".py",
   "mimetype": "text/x-python",
   "name": "python",
   "nbconvert_exporter": "python",
   "pygments_lexer": "ipython3",
   "version": "3.12.4"
  }
 },
 "nbformat": 4,
 "nbformat_minor": 5
}
