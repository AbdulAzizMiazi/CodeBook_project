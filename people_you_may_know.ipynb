{
 "cells": [
  {
   "cell_type": "code",
   "execution_count": 2,
   "id": "0c0116ea-c169-4f0f-98ae-ce7ba3d4b065",
   "metadata": {},
   "outputs": [],
   "source": [
    "import json"
   ]
  },
  {
   "cell_type": "code",
   "execution_count": 3,
   "id": "64b94ec5-a9fe-4de5-9cd2-de9b368c04a4",
   "metadata": {},
   "outputs": [],
   "source": [
    "# function for loading data from the file\n",
    "def load_data(filename):\n",
    "    try:\n",
    "        with open(filename, \"r\") as f:\n",
    "            return json.load(f)\n",
    "    except FileNotFoundError:\n",
    "        return None"
   ]
  },
  {
   "cell_type": "code",
   "execution_count": 4,
   "id": "5d8fb3e4-94ae-4645-81c4-b2485db925a3",
   "metadata": {},
   "outputs": [],
   "source": [
    "# function for the \"people you may know\" suggension\n",
    "def people_you_may_know(data, user_id):\n",
    "\n",
    "    # Let's first extract the data for all users frined(s)\n",
    "    friends = {}\n",
    "    for user in data[\"users\"]:\n",
    "        friends[user[\"id\"]] = list(set(user[\"friends\"]))\n",
    "\n",
    "    # Now, let's check if the given user_id valid or not; because invalid user_id can also be provided\n",
    "    if user_id not in friends.keys():\n",
    "        return []\n",
    "\n",
    "    # Get users direct friends to track the mutual ones\n",
    "    direct_friends = friends[user_id]\n",
    "\n",
    "    suggesions = {} # object for frineds suggensions\n",
    "\n",
    "    # Checking for mutual frineds and complete the suggesions object\n",
    "        # - until here, you are certain that the user is valid and frineds object has all the user's friends list\n",
    "    \n",
    "    for dir_friend in direct_friends: # looping over users direct friends\n",
    "        if dir_friend not in friends: # dir_frined may not exist in the frineds list (due to data cleaning)\n",
    "            continue\n",
    "        for mutuals in friends[dir_friend]:\n",
    "            if mutuals != user_id and mutuals not in direct_friends:\n",
    "                suggesions[mutuals] = suggesions.get(mutuals, 0) + 1\n",
    "\n",
    "    # sorting the dictionary according to the number of times each mutual frined appeared\n",
    "    suggestion_sorted = sorted(suggesions.items(), key = lambda x: x[1], reverse=True)\n",
    "\n",
    "    # At the end, let's just return the suggestion_sorted keys (i.e. user ids) which are sorted by the priority\n",
    "    return [user_id for user_id, _ in suggestion_sorted]\n",
    "    \n",
    "    # return [frined_id[0] for frined_id in suggestion_sorted] # Another version\n",
    "    # return sorted(suggestions.keys(), key=suggestions.get, reverse=True) # Another version\n",
    "\n",
    "\n",
    "# Details explaination of this function: https://chatgpt.com/share/68ad1c5d-5e7c-800a-b287-525314450610"
   ]
  },
  {
   "cell_type": "code",
   "execution_count": 28,
   "id": "29c54a79-66a5-4f5b-a4d2-7648216926ce",
   "metadata": {},
   "outputs": [],
   "source": [
    "# Load data\n",
    "data = load_data(\"clean_data2.json\")"
   ]
  },
  {
   "cell_type": "code",
   "execution_count": 30,
   "id": "be891a51-b8c4-4b09-bb23-8ff9b4ed6b08",
   "metadata": {},
   "outputs": [
    {
     "name": "stdout",
     "output_type": "stream",
     "text": [
      "People You May Know for User 2: [3]\n"
     ]
    }
   ],
   "source": [
    "# Getting the recommendations\n",
    "user_id = 2  # Example: Finding suggestions for Amit\n",
    "recommendations = people_you_may_know(data, user_id)\n",
    "print(f\"People You May Know for User {user_id}: {recommendations}\")"
   ]
  }
 ],
 "metadata": {
  "kernelspec": {
   "display_name": "Python 3 (ipykernel)",
   "language": "python",
   "name": "python3"
  },
  "language_info": {
   "codemirror_mode": {
    "name": "ipython",
    "version": 3
   },
   "file_extension": ".py",
   "mimetype": "text/x-python",
   "name": "python",
   "nbconvert_exporter": "python",
   "pygments_lexer": "ipython3",
   "version": "3.12.4"
  }
 },
 "nbformat": 4,
 "nbformat_minor": 5
}
