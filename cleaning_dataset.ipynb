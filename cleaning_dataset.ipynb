{
 "cells": [
  {
   "cell_type": "code",
   "execution_count": 2,
   "id": "6c1880fe-1caf-4be3-aec7-bbf80f5862f0",
   "metadata": {},
   "outputs": [],
   "source": [
    "import json"
   ]
  },
  {
   "cell_type": "code",
   "execution_count": 3,
   "id": "33167fcf-22cc-4d70-bfda-36a5f2e9f827",
   "metadata": {},
   "outputs": [
    {
     "name": "stdout",
     "output_type": "stream",
     "text": [
      "{'users': [{'id': 1, 'name': 'Amit', 'friends': [2, 3], 'liked_pages': [101]}, {'id': 2, 'name': 'Priya', 'friends': [1, 4], 'liked_pages': [102]}, {'id': 3, 'name': '', 'friends': [1], 'liked_pages': [101, 103]}, {'id': 4, 'name': 'Sara', 'friends': [2, 2], 'liked_pages': [104]}, {'id': 5, 'name': 'Amit', 'friends': [], 'liked_pages': []}], 'pages': [{'id': 101, 'name': 'Python Developers'}, {'id': 102, 'name': 'Data Science Enthusiasts'}, {'id': 103, 'name': 'AI & ML Community'}, {'id': 104, 'name': 'Web Dev Hub'}, {'id': 104, 'name': 'Web Development'}]}\n"
     ]
    }
   ],
   "source": [
    "with open(\"data2.json\", \"r\") as f:\n",
    "    data = json.load(f)\n",
    "    print(data)"
   ]
  },
  {
   "cell_type": "code",
   "execution_count": 4,
   "id": "13578ecd-7441-4cc9-a5bc-645f718cc457",
   "metadata": {},
   "outputs": [],
   "source": [
    "users = data[\"users\"]\n",
    "pages = data[\"pages\"]"
   ]
  },
  {
   "cell_type": "code",
   "execution_count": 5,
   "id": "d322d32a-8870-470e-b2c5-dc2aa7f610c6",
   "metadata": {},
   "outputs": [
    {
     "data": {
      "text/plain": [
       "[{'id': 1, 'name': 'Amit', 'friends': [2, 3], 'liked_pages': [101]},\n",
       " {'id': 2, 'name': 'Priya', 'friends': [1, 4], 'liked_pages': [102]},\n",
       " {'id': 4, 'name': 'Sara', 'friends': [2, 2], 'liked_pages': [104]},\n",
       " {'id': 5, 'name': 'Amit', 'friends': [], 'liked_pages': []}]"
      ]
     },
     "execution_count": 5,
     "metadata": {},
     "output_type": "execute_result"
    }
   ],
   "source": [
    "# clearning invalid names\n",
    "users = [user for user in users if user[\"name\"].strip()]\n",
    "data[\"users\"] = users\n",
    "data[\"users\"]"
   ]
  },
  {
   "cell_type": "code",
   "execution_count": 6,
   "id": "17ace950-c2b9-44df-9c08-5db013b2112e",
   "metadata": {},
   "outputs": [
    {
     "data": {
      "text/plain": [
       "[{'id': 1, 'name': 'Amit', 'friends': [2, 3], 'liked_pages': [101]},\n",
       " {'id': 2, 'name': 'Priya', 'friends': [1, 4], 'liked_pages': [102]},\n",
       " {'id': 4, 'name': 'Sara', 'friends': [2], 'liked_pages': [104]},\n",
       " {'id': 5, 'name': 'Amit', 'friends': [], 'liked_pages': []}]"
      ]
     },
     "execution_count": 6,
     "metadata": {},
     "output_type": "execute_result"
    }
   ],
   "source": [
    "# cleaning duplicate frineds\n",
    "clean_duplicate = lambda list_name: list(set(list_name))\n",
    "\n",
    "frineds = []\n",
    "for user in users:\n",
    "    user[\"friends\"] = clean_duplicate(user[\"friends\"])\n",
    "    frineds.append(user)\n",
    "\n",
    "# frineds = [{**user, \"friends\": clean_duplicate(user[\"friends\"])} for user in users]\n",
    "\n",
    "data[\"users\"] = frineds\n",
    "data[\"users\"]"
   ]
  },
  {
   "cell_type": "code",
   "execution_count": 7,
   "id": "ad8b0c31-edfb-4be9-ac17-8ff011fa3380",
   "metadata": {},
   "outputs": [
    {
     "data": {
      "text/plain": [
       "[{'id': 1, 'name': 'Amit', 'friends': [2, 3], 'liked_pages': [101]},\n",
       " {'id': 2, 'name': 'Priya', 'friends': [1, 4], 'liked_pages': [102]},\n",
       " {'id': 4, 'name': 'Sara', 'friends': [2], 'liked_pages': [104]}]"
      ]
     },
     "execution_count": 7,
     "metadata": {},
     "output_type": "execute_result"
    }
   ],
   "source": [
    "# Clearning users with no friends and no liked_pages\n",
    "data[\"users\"] = [user for user in users if (user[\"friends\"] or user[\"liked_pages\"])]\n",
    "data[\"users\"]"
   ]
  },
  {
   "cell_type": "code",
   "execution_count": 8,
   "id": "018f7504-49a6-48a8-84da-f58e8b13a3aa",
   "metadata": {},
   "outputs": [
    {
     "data": {
      "text/plain": [
       "[{'id': 101, 'name': 'Python Developers'},\n",
       " {'id': 102, 'name': 'Data Science Enthusiasts'},\n",
       " {'id': 103, 'name': 'AI & ML Community'},\n",
       " {'id': 104, 'name': 'Web Dev Hub'}]"
      ]
     },
     "execution_count": 8,
     "metadata": {},
     "output_type": "execute_result"
    }
   ],
   "source": [
    "# cleaning pages\n",
    "priv_page = None\n",
    "valid_pages = []\n",
    "for page in pages:\n",
    "    if page[\"id\"] == priv_page:\n",
    "        continue\n",
    "    else:\n",
    "        valid_pages.append(page)\n",
    "        priv_page = page[\"id\"]\n",
    "\n",
    "data[\"pages\"] = valid_pages\n",
    "data[\"pages\"]"
   ]
  },
  {
   "cell_type": "code",
   "execution_count": 9,
   "id": "0fec505d-f89f-4bce-ac54-8ef7819ee2fb",
   "metadata": {},
   "outputs": [],
   "source": [
    "with open(\"clean_data2.json\", \"w\") as f:\n",
    "    conv_json_data = json.dumps(data)\n",
    "    f.write(conv_json_data)"
   ]
  },
  {
   "cell_type": "code",
   "execution_count": 20,
   "id": "5711a6aa-f025-4bb3-bc66-098f3387d47d",
   "metadata": {},
   "outputs": [],
   "source": [
    "# ************************************************* Solution of Harry *************************************************************\n",
    "# import json\n",
    "\n",
    "# def clean_data(data):\n",
    "#     # Remove users with missing names\n",
    "#     data[\"users\"] = [user for user in data[\"users\"] if user[\"name\"].strip()]\n",
    "    \n",
    "#     # Remove duplicate friends\n",
    "#     for user in data[\"users\"]:\n",
    "#         user[\"friends\"] = list(set(user[\"friends\"]))\n",
    "    \n",
    "#     # Remove inactive users\n",
    "#     data[\"users\"] = [user for user in data[\"users\"] if user[\"friends\"] or user[\"liked_pages\"]]\n",
    "    \n",
    "#     # Remove duplicate pages\n",
    "#     unique_pages = {}\n",
    "#     for page in data[\"pages\"]:\n",
    "#         unique_pages[page[\"id\"]] = page\n",
    "#     data[\"pages\"] = list(unique_pages.values())\n",
    "    \n",
    "#     return data\n",
    "\n",
    "# # Load, clean, and display the cleaned data\n",
    "# data = json.load(open(\"codebook_data.json\"))\n",
    "# data = clean_data(data)\n",
    "# json.dump(data, open(\"cleaned_codebook_data.json\", \"w\"), indent=4)\n",
    "# print(\"Data cleaned successfully!\")"
   ]
  }
 ],
 "metadata": {
  "kernelspec": {
   "display_name": "Python 3 (ipykernel)",
   "language": "python",
   "name": "python3"
  },
  "language_info": {
   "codemirror_mode": {
    "name": "ipython",
    "version": 3
   },
   "file_extension": ".py",
   "mimetype": "text/x-python",
   "name": "python",
   "nbconvert_exporter": "python",
   "pygments_lexer": "ipython3",
   "version": "3.12.4"
  }
 },
 "nbformat": 4,
 "nbformat_minor": 5
}
